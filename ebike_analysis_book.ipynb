{
 "cells": [
  {
   "cell_type": "code",
   "execution_count": 52,
   "metadata": {
    "scrolled": true
   },
   "outputs": [
    {
     "data": {
      "text/html": [
       "<div>\n",
       "<table border=\"1\" class=\"dataframe\">\n",
       "  <thead>\n",
       "    <tr style=\"text-align: right;\">\n",
       "      <th>col_0</th>\n",
       "      <th>count</th>\n",
       "    </tr>\n",
       "    <tr>\n",
       "      <th>Employment</th>\n",
       "      <th></th>\n",
       "    </tr>\n",
       "  </thead>\n",
       "  <tbody>\n",
       "    <tr>\n",
       "      <th>Employee</th>\n",
       "      <td>1410</td>\n",
       "    </tr>\n",
       "    <tr>\n",
       "      <th>I don't understand the rationale for these demographic questions and I'm not sure the privacy statements meets CIMS requirements.</th>\n",
       "      <td>1</td>\n",
       "    </tr>\n",
       "    <tr>\n",
       "      <th>Retired</th>\n",
       "      <td>136</td>\n",
       "    </tr>\n",
       "    <tr>\n",
       "      <th>Self-employed</th>\n",
       "      <td>362</td>\n",
       "    </tr>\n",
       "    <tr>\n",
       "      <th>Unemployed</th>\n",
       "      <td>180</td>\n",
       "    </tr>\n",
       "    <tr>\n",
       "      <th>Worker</th>\n",
       "      <td>128</td>\n",
       "    </tr>\n",
       "    <tr>\n",
       "      <th>contract</th>\n",
       "      <td>1</td>\n",
       "    </tr>\n",
       "    <tr>\n",
       "      <th>ltip disability</th>\n",
       "      <td>1</td>\n",
       "    </tr>\n",
       "    <tr>\n",
       "      <th>none of your business</th>\n",
       "      <td>1</td>\n",
       "    </tr>\n",
       "    <tr>\n",
       "      <th>occasional teacher</th>\n",
       "      <td>1</td>\n",
       "    </tr>\n",
       "    <tr>\n",
       "      <th>part time while I write</th>\n",
       "      <td>1</td>\n",
       "    </tr>\n",
       "    <tr>\n",
       "      <th>semi-retired, self-employed</th>\n",
       "      <td>1</td>\n",
       "    </tr>\n",
       "  </tbody>\n",
       "</table>\n",
       "</div>"
      ],
      "text/plain": [
       "col_0                                               count\n",
       "Employment                                               \n",
       "Employee                                             1410\n",
       "I don't understand the rationale for these demo...      1\n",
       "Retired                                               136\n",
       "Self-employed                                         362\n",
       "Unemployed                                            180\n",
       "Worker                                                128\n",
       "contract                                                1\n",
       "ltip disability                                         1\n",
       "none of your business                                   1\n",
       "occasional teacher                                      1\n",
       "part time while I write                                 1\n",
       "semi-retired, self-employed                             1"
      ]
     },
     "execution_count": 52,
     "metadata": {},
     "output_type": "execute_result"
    }
   ],
   "source": [
    "import pandas as pd\n",
    "import numpy\n",
    "\n",
    "df = pd.read_excel(\"/Users/jie/Documents/shopify/ebike/E-Bike_Survey_Responses.xls\")\n",
    "\n",
    "#########################################\n",
    "###########Data description##############\n",
    "#rename the columns\n",
    "df.columns = ['Date', 'Age','Sex','Health','Education','Family_Income','Employment',\n",
    "              'Address','Travel_distance','Commute','Transportation','Vehicles',\n",
    "              'Support_Statements','Multiuse_Trail','Trail_speed','Collision_witness',\n",
    "              'Speed_limit','multiuselane_propelled','bicyclelane_use','bikelane_propelled',\n",
    "              'Sidewalk','Personal_mobile']\n",
    "\n",
    "#clearify values in \"Health\" column:\n",
    "df['Health']=df['Health'].replace(['In poor shape, but active & improving',\n",
    "                                   'Obese, diabetic but trying to be healthy',\n",
    "                                   'healthy but with arthritis mobilty issues'], 'Fairly poor')\n",
    "\n",
    "df['Health']=df['Health'].replace(['Back Injury','Disabled','healing fractured heel','need knee replacement'], 'Poor')\n",
    "\n",
    "\n",
    "#clearify values in \"Education\" column:\n",
    "df['Education']=df['Education'].replace(['Grade 8','working towards OSSD'], 'Secondary')\n",
    "df['Education']=df['Education'].replace(['Grade 9','High school Student','High school diploma '], 'High school')\n",
    "df['Education']=df['Education'].replace(['College or trade school diploma','college degree (not university and not a diploma)'\n",
    "                                        ], 'College/Trade/technical/vocational training')\n",
    "df['Education']=df['Education'].replace(['4 years university, no degree','Some University','Some university',\n",
    "                                        'University Student','some uni','some university',\n",
    "                                         'University','university','University degree'], 'University')\n",
    "df['Education']=df['Education'].replace(['Graduate','Law School','M,D.','PhD'], 'Post graduate')\n",
    "df['Education']=df['Education'].replace(['Professional degree','Professional Certifications'], 'Professional degree')\n",
    "df['Education']=df['Education'].replace(['in HS','still in school'], 'Unknown')\n",
    "\n",
    "\n",
    "#clearify values in \"Employment\" column:\n",
    "df['Employment']=df['Employment'].replace(['Contract','Extreme full-time','FT Contract','Full Time','full time casual',\n",
    "                                          'full time work and student'], 'Employee')\n",
    "df['Employment']=df['Employment'].replace(['DISABLED ','DISSABLE','Disability pension',\n",
    "                                          'Doctoral Student','Home Maker','ODSP','Student','disabled'], 'Unemployed')\n",
    "df['Employment']=df['Employment'].replace(['',], 'Retired')\n",
    "df['Employment']=df['Employment'].replace(['Free Lance','Free-lance and home maker','Freelance Artist',\n",
    "                                          'Freelance Contractor','Part Time','Seasonal Full-Time','Student/internship',\n",
    "                                          'arts worker - partial full time'], 'Worker')\n",
    "\n",
    "df['Employment']=df['Employment'].replace(['Full time job 3 days a week, own startup rest of time',\n",
    "                                          'Self Employed','Self-employed '], 'Self-employed')\n",
    "\n",
    "# Employee.\n",
    "# Worker.\n",
    "# Self-employed.\n",
    "\n",
    "\n",
    "my_tab = pd.crosstab(index=df['Employment'],columns=\"count\") \n",
    "my_tab\n"
   ]
  },
  {
   "cell_type": "code",
   "execution_count": null,
   "metadata": {},
   "outputs": [],
   "source": [
    "#divide the dataset into train set and test set, by using the \"K-fold\" cross-validation\n",
    "\n",
    "\n",
    "\n",
    "#create dummy variable \"Response\" by the answer of question \n",
    "#\"Does your household have access to any of the following types of private motorized vehicles?\"\n",
    "keyword1 = ['yes','car','cars','motorcycle','atv','motor','truck']\n",
    "keyword2 = ['share','rental','sharing','zip','Car2Go','Cars2Go',\"borrow\",\"rent\",'carshare']\n",
    "pat1 = '|'.join(keyword1)\n",
    "pat2 = '|'.join(keyword2)\n",
    "\n",
    "df['Response'] = pd.np.where(df['Vehicles'].str.lower().str.contains(pat1), 1, 0)\n",
    "df['Response'] [df['Vehicles'].str.lower().str.contains(pat2)]=0\n",
    "\n",
    "#Check the one-way frequency table of \"Response\"\n",
    "my_tab = pd.crosstab(index=df['Health'],columns=\"count\") \n",
    "my_tab"
   ]
  },
  {
   "cell_type": "code",
   "execution_count": null,
   "metadata": {},
   "outputs": [],
   "source": [
    "from sklearn.linear_model import LogisticRegression\n",
    "from sklearn import metrics, cross_validation\n",
    "\n",
    "df2 = pd.get_dummies(df, columns =['Age','Sex','Health','Education','Family_Income','Employment',\n",
    "              'Address','Travel_distance'])\n",
    "df2.head(5)\n",
    "#logreg=LogisticRegression()\n",
    "#X, y = df[\"Age\"], df[\"Response\"]\n",
    "\n",
    "\n",
    "#predicted = cross_validation.cross_val_predict(logreg, df[\"Age\"], df[\"Response\"], cv=10)\n",
    "#metrics.accuracy_score(y, predicted)\n",
    "\n"
   ]
  },
  {
   "cell_type": "code",
   "execution_count": null,
   "metadata": {},
   "outputs": [],
   "source": [
    "print metrics.classification_report(y, predicted) "
   ]
  },
  {
   "cell_type": "markdown",
   "metadata": {},
   "source": [
    "I have renamed most of the columns for simplify data manipluations. Check reference [1] for details."
   ]
  },
  {
   "cell_type": "markdown",
   "metadata": {},
   "source": [
    "## Check missing value pattern"
   ]
  },
  {
   "cell_type": "code",
   "execution_count": null,
   "metadata": {
    "scrolled": true
   },
   "outputs": [],
   "source": [
    "import missingno as msno\n",
    "%matplotlib inline"
   ]
  },
  {
   "cell_type": "code",
   "execution_count": null,
   "metadata": {
    "scrolled": true
   },
   "outputs": [],
   "source": [
    "msno.matrix(df)"
   ]
  },
  {
   "cell_type": "markdown",
   "metadata": {},
   "source": [
    "At a glance, address and all multiple choice questions regarding with the e-bike use appear to be completed, while the personal information (e.g. household income, education, gender and employment) seems spottier. \n"
   ]
  },
  {
   "cell_type": "code",
   "execution_count": null,
   "metadata": {
    "scrolled": false
   },
   "outputs": [],
   "source": [
    "#Check the randomness of missing value\n",
    "pd.crosstab(df[\"Age\"].fillna('missing'),df[\"Family_Income\"].fillna('missing'),dropna=False, margins=True)\n",
    "pd.crosstab(df[\"Education\"].fillna('missing'),df[\"Family_Income\"].fillna('missing'),dropna=False, margins=True)\n"
   ]
  },
  {
   "cell_type": "code",
   "execution_count": null,
   "metadata": {
    "scrolled": true
   },
   "outputs": [],
   "source": [
    "msno.heatmap(df)"
   ]
  },
  {
   "cell_type": "markdown",
   "metadata": {},
   "source": [
    "It seems that survey which is filed with an average travel distance most days of the week is definitely having a complete address; and along with the average commute time variable, travel distance and address will also be provided.\n",
    "\n",
    "Nullity correlation ranges from -1 (if one variable appears the other definitely does not) to 0 (variables appearing or not appearing have no effect on one another) to 1 (if one variable appears the other definitely also does)."
   ]
  },
  {
   "cell_type": "markdown",
   "metadata": {},
   "source": [
    "## Suggestions for next survey\n",
    "1.Age should be treated as continuous variable\n",
    "\n"
   ]
  },
  {
   "cell_type": "markdown",
   "metadata": {},
   "source": [
    "#### Reference\n",
    "##### [1] Table Names\n",
    "\n",
    "| # |Original Names |   New Column Names   |\n",
    "| :- |:---:| :-|\n",
    "| 1|Timestamp | Date|\n",
    "| 2|1. What age range do you fall in? | Age|\n",
    "| 3|Sex | Sex|\n",
    "| 4|How would you describe your level of physical health? | Health|\n",
    "| 5|What level of education have you reached? | Education|\n",
    "| 6|What is your household income? | Family_income|\n",
    "| 7|Which category best describes your employment? | Employment|\n",
    "| 8|What Toronto district is your primary address located in? | Address|\n",
    "| 9|On average, what distance do you travel most days of the week? | Travel_distance|\n",
    "| 10|On average, how long is your commute? (each way) | Commute|\n",
    "| 11|Which transportation option do you end up using most often? | Transportation|\n",
    "| 12|Does your household have access to any of the following types of private motorized vehicles? | Vehicles|\n",
    "| 13|Do you support any of the following statements? | Support_Statements|\n",
    "| 14|When you use Toronto's Multi-Use Trails do you mostly | Multiuse_Trail|\n",
    "| 15|Are you aware that the City of Toronto's Multi-Use Paths have a speed limit of 20 km/h? | Trail_speed|\n",
    "| 16|Have you witnessed a collision or conflict on a trail between | Collision_witness|\n",
    "| 17|Do you think more should be done to manage trail users who do not respect the 20 km/h speed limit? | Speed_limit|\n",
    "| 18|Currently, any kind of e-bike may use a multi-use path if they are propelled by pedaling only.  If any e-biker or other type of vehicle is being propelled by motor power, then it is considered a motor vehicle, and may be fined. | multiuselane_propelled|\n",
    "| 19|When you use Toronto's bicycle lanes do you mostly | bicyclelane_use|\n",
    "| 20|Currently, any kind of e-bike may use a bicycle lane, provided they are propelled by pedalling only.  If any e-bike is being propelled by motor power, then it is considered a motor vehicle and may be fined.  | bikelane_propelled|\n",
    "| 21|Sidewalks are for pedestrians.  Cyclists and e-bikers should not ride or drive on sidewalks.  With regards to illegal use of bicycles and e-bikes on sidewalks, should the City. | Sidewalk|\n",
    "| 22|Toronto Bylaws consider personal mobility devices (such as electric wheel chairs) to be pedestrians.  Historically, there has been little risk as electric wheelchairs available for purchase have only traveled at speeds which are close to walking speed.  More recently, personal mobility devices which resemble e-bikes and may travel at more than triple walking speed have become available.  In your opinion, should the City; | Personal_mobile|\n",
    "<style>\n",
    "table {float:left}\n",
    "</style>"
   ]
  },
  {
   "cell_type": "code",
   "execution_count": null,
   "metadata": {},
   "outputs": [],
   "source": []
  }
 ],
 "metadata": {
  "kernelspec": {
   "display_name": "Python 2",
   "language": "python",
   "name": "python2"
  },
  "language_info": {
   "codemirror_mode": {
    "name": "ipython",
    "version": 2
   },
   "file_extension": ".py",
   "mimetype": "text/x-python",
   "name": "python",
   "nbconvert_exporter": "python",
   "pygments_lexer": "ipython2",
   "version": "2.7.13"
  }
 },
 "nbformat": 4,
 "nbformat_minor": 2
}
