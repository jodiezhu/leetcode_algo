{
 "cells": [
  {
   "cell_type": "code",
   "execution_count": 20,
   "metadata": {
    "scrolled": true
   },
   "outputs": [
    {
     "data": {
      "text/html": [
       "<div>\n",
       "<table border=\"1\" class=\"dataframe\">\n",
       "  <thead>\n",
       "    <tr style=\"text-align: right;\">\n",
       "      <th></th>\n",
       "      <th>Age</th>\n",
       "      <th>Gender</th>\n",
       "      <th>Health</th>\n",
       "      <th>Education</th>\n",
       "      <th>Family_Income</th>\n",
       "      <th>Employment</th>\n",
       "      <th>Address</th>\n",
       "      <th>Travel_distance</th>\n",
       "      <th>Commute</th>\n",
       "      <th>Transportation</th>\n",
       "    </tr>\n",
       "  </thead>\n",
       "  <tbody>\n",
       "    <tr>\n",
       "      <th>count</th>\n",
       "      <td>2234</td>\n",
       "      <td>2221</td>\n",
       "      <td>2227</td>\n",
       "      <td>2220</td>\n",
       "      <td>2178</td>\n",
       "      <td>2223</td>\n",
       "      <td>2237</td>\n",
       "      <td>2237</td>\n",
       "      <td>2237</td>\n",
       "      <td>2238</td>\n",
       "    </tr>\n",
       "    <tr>\n",
       "      <th>unique</th>\n",
       "      <td>5</td>\n",
       "      <td>4</td>\n",
       "      <td>6</td>\n",
       "      <td>7</td>\n",
       "      <td>6</td>\n",
       "      <td>6</td>\n",
       "      <td>7</td>\n",
       "      <td>5</td>\n",
       "      <td>6</td>\n",
       "      <td>5</td>\n",
       "    </tr>\n",
       "    <tr>\n",
       "      <th>top</th>\n",
       "      <td>35 to 49</td>\n",
       "      <td>Male</td>\n",
       "      <td>Very good</td>\n",
       "      <td>University</td>\n",
       "      <td>$100K+</td>\n",
       "      <td>Employee</td>\n",
       "      <td>Toronto</td>\n",
       "      <td>5 - 10 km</td>\n",
       "      <td>16 - 29 minutes</td>\n",
       "      <td>Bike</td>\n",
       "    </tr>\n",
       "    <tr>\n",
       "      <th>freq</th>\n",
       "      <td>863</td>\n",
       "      <td>1554</td>\n",
       "      <td>891</td>\n",
       "      <td>903</td>\n",
       "      <td>831</td>\n",
       "      <td>1410</td>\n",
       "      <td>2145</td>\n",
       "      <td>847</td>\n",
       "      <td>782</td>\n",
       "      <td>785</td>\n",
       "    </tr>\n",
       "  </tbody>\n",
       "</table>\n",
       "</div>"
      ],
      "text/plain": [
       "             Age Gender     Health   Education Family_Income Employment  \\\n",
       "count       2234   2221       2227        2220          2178       2223   \n",
       "unique         5      4          6           7             6          6   \n",
       "top     35 to 49   Male  Very good  University        $100K+   Employee   \n",
       "freq         863   1554        891         903           831       1410   \n",
       "\n",
       "        Address Travel_distance          Commute Transportation  \n",
       "count      2237            2237             2237           2238  \n",
       "unique        7               5                6              5  \n",
       "top     Toronto       5 - 10 km  16 - 29 minutes           Bike  \n",
       "freq       2145             847              782            785  "
      ]
     },
     "execution_count": 20,
     "metadata": {},
     "output_type": "execute_result"
    }
   ],
   "source": [
    "import pandas as pd\n",
    "import numpy\n",
    "\n",
    "df = pd.read_excel(\"/Users/jie/Documents/shopify/ebike/E-Bike_cleaned.xls\",index=False)\n",
    "df_part1=df[['Date', 'Age','Gender','Health','Education','Family_Income','Employment',\n",
    "              'Address','Travel_distance','Commute','Transportation','Response']]\n",
    "\n",
    "#########################################\n",
    "###########Data description##############\n",
    "df_part1.head()\n",
    "df_part1.describe(include=['O'])"
   ]
  },
  {
   "cell_type": "markdown",
   "metadata": {},
   "source": [
    "### What is the distribution of categorical features?\n",
    "* Each row is unique across the dataset (count=unique=2238).\n",
    "* Age takes 5 ranges with 38.6% \"35 to 49 years old\" (top=35 to 49, freq= 863/count=2234).\n",
    "* Gender variable has 4 possible values, with 70% male (top=male, freq=1554/count=2221).\n",
    "* Health variable has 6 values, with 40% Very good (top=Very good, freq=891/count=2227).\n",
    "* Yearly Household Income takes 6 possible values. 100K+ earned by most family (top=100K+)\n",
    "* Employment has 6 status, most are employee (freq=1410/count=2178).\n",
    "* Ticket feature has high ratio (22%) of duplicate values (unique=681)."
   ]
  },
  {
   "cell_type": "code",
   "execution_count": null,
   "metadata": {},
   "outputs": [],
   "source": [
    "#divide the dataset into train set and test set, by using the \"K-fold\" cross-validation\n",
    "\n",
    "\n",
    "\n",
    "#create dummy variable \"Response\" by the answer of question \n",
    "#\"Does your household have access to any of the following types of private motorized vehicles?\"\n",
    "keyword1 = ['yes','car','cars','motorcycle','atv','motor','truck']\n",
    "keyword2 = ['share','rental','sharing','zip','Car2Go','Cars2Go',\"borrow\",\"rent\",'carshare']\n",
    "pat1 = '|'.join(keyword1)\n",
    "pat2 = '|'.join(keyword2)\n",
    "\n",
    "df['Response'] = pd.np.where(df['Vehicles'].str.lower().str.contains(pat1), 1, 0)\n",
    "df['Response'] [df['Vehicles'].str.lower().str.contains(pat2)]=0\n",
    "\n",
    "#Check the one-way frequency table of \"Response\"\n",
    "my_tab = pd.crosstab(index=df['Health'],columns=\"count\") \n",
    "my_tab"
   ]
  },
  {
   "cell_type": "code",
   "execution_count": null,
   "metadata": {},
   "outputs": [],
   "source": [
    "from sklearn.linear_model import LogisticRegression\n",
    "from sklearn import metrics, cross_validation\n",
    "\n",
    "df2 = pd.get_dummies(df, columns =['Age','Sex','Health','Education','Family_Income','Employment',\n",
    "              'Address','Travel_distance'])\n",
    "df2.head(5)\n",
    "#logreg=LogisticRegression()\n",
    "#X, y = df[\"Age\"], df[\"Response\"]\n",
    "\n",
    "\n",
    "#predicted = cross_validation.cross_val_predict(logreg, df[\"Age\"], df[\"Response\"], cv=10)\n",
    "#metrics.accuracy_score(y, predicted)\n",
    "\n"
   ]
  },
  {
   "cell_type": "code",
   "execution_count": null,
   "metadata": {},
   "outputs": [],
   "source": [
    "print metrics.classification_report(y, predicted) "
   ]
  },
  {
   "cell_type": "markdown",
   "metadata": {},
   "source": [
    "I have renamed most of the columns for simplify data manipluations. Check reference [1] for details."
   ]
  },
  {
   "cell_type": "markdown",
   "metadata": {},
   "source": [
    "## Check missing value pattern"
   ]
  },
  {
   "cell_type": "code",
   "execution_count": null,
   "metadata": {
    "scrolled": true
   },
   "outputs": [],
   "source": [
    "import missingno as msno\n",
    "%matplotlib inline"
   ]
  },
  {
   "cell_type": "code",
   "execution_count": null,
   "metadata": {
    "scrolled": true
   },
   "outputs": [],
   "source": [
    "msno.matrix(df)"
   ]
  },
  {
   "cell_type": "markdown",
   "metadata": {},
   "source": [
    "At a glance, address and all multiple choice questions regarding with the e-bike use appear to be completed, while the personal information (e.g. household income, education, gender and employment) seems spottier. \n"
   ]
  },
  {
   "cell_type": "code",
   "execution_count": null,
   "metadata": {
    "scrolled": false
   },
   "outputs": [],
   "source": [
    "#Check the randomness of missing value\n",
    "pd.crosstab(df[\"Age\"].fillna('missing'),df[\"Family_Income\"].fillna('missing'),dropna=False, margins=True)\n",
    "pd.crosstab(df[\"Education\"].fillna('missing'),df[\"Family_Income\"].fillna('missing'),dropna=False, margins=True)\n"
   ]
  },
  {
   "cell_type": "code",
   "execution_count": null,
   "metadata": {
    "scrolled": true
   },
   "outputs": [],
   "source": [
    "msno.heatmap(df)"
   ]
  },
  {
   "cell_type": "markdown",
   "metadata": {},
   "source": [
    "It seems that survey which is filed with an average travel distance most days of the week is definitely having a complete address; and along with the average commute time variable, travel distance and address will also be provided.\n",
    "\n",
    "Nullity correlation ranges from -1 (if one variable appears the other definitely does not) to 0 (variables appearing or not appearing have no effect on one another) to 1 (if one variable appears the other definitely also does)."
   ]
  },
  {
   "cell_type": "markdown",
   "metadata": {},
   "source": [
    "## Suggestions for next survey\n",
    "1.Age should be treated as continuous variable\n",
    "\n"
   ]
  },
  {
   "cell_type": "markdown",
   "metadata": {},
   "source": [
    "#### Reference\n",
    "##### [1] Table Names\n",
    "\n",
    "| # |Original Names |   New Column Names   |\n",
    "| :- |:---:| :-|\n",
    "| 1|Timestamp | Date|\n",
    "| 2|1. What age range do you fall in? | Age|\n",
    "| 3|Sex | Gender|\n",
    "| 4|How would you describe your level of physical health? | Health|\n",
    "| 5|What level of education have you reached? | Education|\n",
    "| 6|What is your household income? | Family_income|\n",
    "| 7|Which category best describes your employment? | Employment|\n",
    "| 8|What Toronto district is your primary address located in? | Address|\n",
    "| 9|On average, what distance do you travel most days of the week? | Travel_distance|\n",
    "| 10|On average, how long is your commute? (each way) | Commute|\n",
    "| 11|Which transportation option do you end up using most often? | Transportation|\n",
    "| 12|Does your household have access to any of the following types of private motorized vehicles? | Vehicles|\n",
    "| 13|Do you support any of the following statements? | Support_Statements|\n",
    "| 14|When you use Toronto's Multi-Use Trails do you mostly | Multiuse_Trail|\n",
    "| 15|Are you aware that the City of Toronto's Multi-Use Paths have a speed limit of 20 km/h? | Trail_speed|\n",
    "| 16|Have you witnessed a collision or conflict on a trail between | Collision_witness|\n",
    "| 17|Do you think more should be done to manage trail users who do not respect the 20 km/h speed limit? | Speed_limit|\n",
    "| 18|Currently, any kind of e-bike may use a multi-use path if they are propelled by pedaling only.  If any e-biker or other type of vehicle is being propelled by motor power, then it is considered a motor vehicle, and may be fined. | multiuselane_propelled|\n",
    "| 19|When you use Toronto's bicycle lanes do you mostly | bicyclelane_use|\n",
    "| 20|Currently, any kind of e-bike may use a bicycle lane, provided they are propelled by pedalling only.  If any e-bike is being propelled by motor power, then it is considered a motor vehicle and may be fined.  | bikelane_propelled|\n",
    "| 21|Sidewalks are for pedestrians.  Cyclists and e-bikers should not ride or drive on sidewalks.  With regards to illegal use of bicycles and e-bikes on sidewalks, should the City. | Sidewalk|\n",
    "| 22|Toronto Bylaws consider personal mobility devices (such as electric wheel chairs) to be pedestrians.  Historically, there has been little risk as electric wheelchairs available for purchase have only traveled at speeds which are close to walking speed.  More recently, personal mobility devices which resemble e-bikes and may travel at more than triple walking speed have become available.  In your opinion, should the City; | Personal_mobile|\n",
    "<style>\n",
    "table {float:left}\n",
    "</style>"
   ]
  },
  {
   "cell_type": "code",
   "execution_count": null,
   "metadata": {},
   "outputs": [],
   "source": []
  }
 ],
 "metadata": {
  "kernelspec": {
   "display_name": "Python 2",
   "language": "python",
   "name": "python2"
  },
  "language_info": {
   "codemirror_mode": {
    "name": "ipython",
    "version": 2
   },
   "file_extension": ".py",
   "mimetype": "text/x-python",
   "name": "python",
   "nbconvert_exporter": "python",
   "pygments_lexer": "ipython2",
   "version": "2.7.13"
  }
 },
 "nbformat": 4,
 "nbformat_minor": 2
}
