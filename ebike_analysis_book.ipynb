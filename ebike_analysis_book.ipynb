{
 "cells": [
  {
   "cell_type": "code",
   "execution_count": 98,
   "metadata": {
    "scrolled": true
   },
   "outputs": [
    {
     "data": {
      "text/html": [
       "<div>\n",
       "<table border=\"1\" class=\"dataframe\">\n",
       "  <thead>\n",
       "    <tr style=\"text-align: right;\">\n",
       "      <th></th>\n",
       "      <th>Age</th>\n",
       "      <th>Gender</th>\n",
       "      <th>Health</th>\n",
       "      <th>Education</th>\n",
       "      <th>Family_Income</th>\n",
       "      <th>Employment</th>\n",
       "      <th>Region</th>\n",
       "      <th>Travel_distance</th>\n",
       "      <th>Commute Time</th>\n",
       "      <th>Transportation</th>\n",
       "    </tr>\n",
       "  </thead>\n",
       "  <tbody>\n",
       "    <tr>\n",
       "      <th>count</th>\n",
       "      <td>2234</td>\n",
       "      <td>2221</td>\n",
       "      <td>2227</td>\n",
       "      <td>2220</td>\n",
       "      <td>2178</td>\n",
       "      <td>2223</td>\n",
       "      <td>2237</td>\n",
       "      <td>2237</td>\n",
       "      <td>2237</td>\n",
       "      <td>2238</td>\n",
       "    </tr>\n",
       "    <tr>\n",
       "      <th>unique</th>\n",
       "      <td>5</td>\n",
       "      <td>4</td>\n",
       "      <td>6</td>\n",
       "      <td>7</td>\n",
       "      <td>6</td>\n",
       "      <td>6</td>\n",
       "      <td>7</td>\n",
       "      <td>5</td>\n",
       "      <td>6</td>\n",
       "      <td>5</td>\n",
       "    </tr>\n",
       "    <tr>\n",
       "      <th>top</th>\n",
       "      <td>35 to 49</td>\n",
       "      <td>Male</td>\n",
       "      <td>Very good</td>\n",
       "      <td>University</td>\n",
       "      <td>$100K+</td>\n",
       "      <td>Employee</td>\n",
       "      <td>Toronto</td>\n",
       "      <td>5 - 10 km</td>\n",
       "      <td>16 - 29 minutes</td>\n",
       "      <td>Bike</td>\n",
       "    </tr>\n",
       "    <tr>\n",
       "      <th>freq</th>\n",
       "      <td>863</td>\n",
       "      <td>1554</td>\n",
       "      <td>891</td>\n",
       "      <td>903</td>\n",
       "      <td>831</td>\n",
       "      <td>1410</td>\n",
       "      <td>2145</td>\n",
       "      <td>847</td>\n",
       "      <td>782</td>\n",
       "      <td>785</td>\n",
       "    </tr>\n",
       "  </tbody>\n",
       "</table>\n",
       "</div>"
      ],
      "text/plain": [
       "             Age Gender     Health   Education Family_Income Employment  \\\n",
       "count       2234   2221       2227        2220          2178       2223   \n",
       "unique         5      4          6           7             6          6   \n",
       "top     35 to 49   Male  Very good  University        $100K+   Employee   \n",
       "freq         863   1554        891         903           831       1410   \n",
       "\n",
       "         Region Travel_distance     Commute Time Transportation  \n",
       "count      2237            2237             2237           2238  \n",
       "unique        7               5                6              5  \n",
       "top     Toronto       5 - 10 km  16 - 29 minutes           Bike  \n",
       "freq       2145             847              782            785  "
      ]
     },
     "execution_count": 98,
     "metadata": {},
     "output_type": "execute_result"
    }
   ],
   "source": [
    "import pandas as pd\n",
    "import numpy as np\n",
    "import matplotlib.pyplot as plt\n",
    "\n",
    "\n",
    "df = pd.read_excel(\"/Users/jie/Documents/shopify/ebike/E-Bike_cleaned.xls\",index=False)\n",
    "df_part1=df[['Date', 'Age','Gender','Health','Education','Family_Income','Employment',\n",
    "              'Region','Travel_distance','Commute Time','Transportation','Response']]\n",
    "\n",
    "#########################################\n",
    "###########Data description##############\n",
    "df_part1.head()\n",
    "df_part1.describe(include=['O'])"
   ]
  },
  {
   "cell_type": "markdown",
   "metadata": {},
   "source": [
    "### What is the distribution of categorical features?\n",
    "* Each row is unique across the dataset (count=unique=2238).\n",
    "* Age takes 5 ranges with 38.6% at \"35 to 49 years old\" (top=35 to 49, freq= 863/count=2234).\n",
    "* Gender variable has 4 possible values, with 70% male, 29.6% female and 0.13% transgender.\n",
    "* Health variable has 6 values, with 40% Very good (top=Very good, freq=891/count=2227).\n",
    "* Yearly Household Income takes 6 possible values. 100K+ earned by most family (top=100K+)\n",
    "* Employment has 6 status, mostly are employees (freq=1410/count=2178).\n",
    "* Region has 7 values with 95.9% live in Toronto (freq=2145/count=2237).\n",
    "* Travel distance takes 5 ranges with 37.9% travel 5 to 10 km most days of the week (freq= 847/count=2237).\n",
    "* Commute time has 6 ranges with 34.9% spending 16-29 mins one-way (freq=782/count=2237).\n",
    "* Transportation takes 5 values, and 35.1% by bikes (freq=785/count=2237)."
   ]
  },
  {
   "cell_type": "markdown",
   "metadata": {},
   "source": [
    "### Analyze by pivoting features"
   ]
  },
  {
   "cell_type": "code",
   "execution_count": 99,
   "metadata": {},
   "outputs": [
    {
     "data": {
      "text/html": [
       "<div>\n",
       "<table border=\"1\" class=\"dataframe\">\n",
       "  <thead>\n",
       "    <tr style=\"text-align: right;\">\n",
       "      <th></th>\n",
       "      <th>Response</th>\n",
       "    </tr>\n",
       "    <tr>\n",
       "      <th>Age</th>\n",
       "      <th></th>\n",
       "    </tr>\n",
       "  </thead>\n",
       "  <tbody>\n",
       "    <tr>\n",
       "      <th>17 or younger</th>\n",
       "      <td>1.000000</td>\n",
       "    </tr>\n",
       "    <tr>\n",
       "      <th>65 years or more</th>\n",
       "      <td>0.990991</td>\n",
       "    </tr>\n",
       "    <tr>\n",
       "      <th>18 to 34</th>\n",
       "      <td>0.982256</td>\n",
       "    </tr>\n",
       "    <tr>\n",
       "      <th>35 to 49</th>\n",
       "      <td>0.971031</td>\n",
       "    </tr>\n",
       "    <tr>\n",
       "      <th>50 to 64</th>\n",
       "      <td>0.965443</td>\n",
       "    </tr>\n",
       "  </tbody>\n",
       "</table>\n",
       "</div>"
      ],
      "text/plain": [
       "                  Response\n",
       "Age                       \n",
       "17 or younger     1.000000\n",
       "65 years or more  0.990991\n",
       "18 to 34          0.982256\n",
       "35 to 49          0.971031\n",
       "50 to 64          0.965443"
      ]
     },
     "execution_count": 99,
     "metadata": {},
     "output_type": "execute_result"
    }
   ],
   "source": [
    "# Table of Response vs. Age\n",
    "response_Age = pd.crosstab(df_part1[\"Age\"],df_part1[\"Response\"],margins=True)\n",
    "response_Age\n",
    "\n",
    "response_Age/response_Age.ix[\"All\"]\n",
    "# response_Age.columns = [\"0\",\"1\",\"rowtotal\"]\n",
    "# response_Age.index= [\"17 or younger\",\"18 to 34\",'35 to 49','50 to 64',\"65 years or more\",\"coltotal\"]\n",
    "\n",
    "# #response_Age/response_Age.ix[\"coltotal\"]\n",
    "# response_Age.div(response_Age[\"rowtotal\"],axis=0)\n",
    "df_part1[[\"Age\", \"Response\"]].groupby(['Age']).mean().sort_values(by='Response', ascending=False)\n"
   ]
  },
  {
   "cell_type": "code",
   "execution_count": 100,
   "metadata": {},
   "outputs": [
    {
     "data": {
      "image/png": "[encoded data removed]",
      "text/plain": [
       "<matplotlib.figure.Figure at 0x114c45190>"
      ]
     },
     "metadata": {},
     "output_type": "display_data"
    }
   ],
   "source": [
    "# Plot of Response vs. Gender\n",
    "%matplotlib inline\n",
    "\n",
    "N = 5\n",
    "yesMeans = (100,99.1,98.2,97.1,96.5)\n",
    "noMeans = (0,0.9,1.8,2.9,3.5)\n",
    "\n",
    "ind = np.arange(N)    # the x locations for the groups\n",
    "width = 0.35       # the width of the bars: can also be len(x) sequence\n",
    "\n",
    "p1 = plt.bar(ind, yesMeans, width)\n",
    "p2 = plt.bar(ind, noMeans, width,bottom=yesMeans)\n",
    "\n",
    "plt.ylabel('Percentage')\n",
    "plt.title('Percentage by age (years)')\n",
    "plt.xticks(ind, ('<= 17','65 +','18 - 34','35 - 49','50 - 64'))\n",
    "plt.yticks(np.arange(0, 110, 20))\n",
    "plt.legend((p1[0], p2[0]), ('Yes', 'No'))\n",
    "\n",
    "plt.savefig('age.png')\n"
   ]
  },
  {
   "cell_type": "code",
   "execution_count": null,
   "metadata": {
    "scrolled": true
   },
   "outputs": [],
   "source": [
    "# Table of Response vs. Gender\n",
    "response_Gender = pd.crosstab(df_part1[\"Gender\"],df_part1[\"Response\"],margins=True)\n",
    "response_Gender/response_Gender.ix[\"All\"]\n",
    "df_part1[[\"Gender\", \"Response\"]].groupby(['Gender']).mean().sort_values(by='Response', ascending=False)\n"
   ]
  },
  {
   "cell_type": "code",
   "execution_count": 101,
   "metadata": {},
   "outputs": [
    {
     "data": {
      "image/png": "[encoded data removed]",
      "text/plain": [
       "<matplotlib.figure.Figure at 0x114eaa110>"
      ]
     },
     "metadata": {},
     "output_type": "display_data"
    }
   ],
   "source": [
    "# Plot of Response vs. Gender\n",
    "N = 4\n",
    "yesMeans = (100,100,98.2,95.9)\n",
    "noMeans = (0,0,1.8,4.1)\n",
    "\n",
    "ind = np.arange(N)    # the x locations for the groups\n",
    "width = 0.35       # the width of the bars: can also be len(x) sequence\n",
    "\n",
    "p1 = plt.bar(ind, yesMeans, width)\n",
    "p2 = plt.bar(ind, noMeans, width,bottom=yesMeans)\n",
    "\n",
    "plt.ylabel('Percentage')\n",
    "plt.title('Percentage by gender')\n",
    "plt.xticks(ind, ('Transgender','Unspecified','Male','Female'))\n",
    "plt.yticks(np.arange(0, 110, 20))\n",
    "plt.legend((p1[0], p2[0]), ('Yes', 'No'))\n",
    "\n",
    "plt.savefig('gender.png')"
   ]
  },
  {
   "cell_type": "code",
   "execution_count": null,
   "metadata": {
    "scrolled": true
   },
   "outputs": [],
   "source": [
    "# Table of Response vs. Health\n",
    "response_Health = pd.crosstab(df_part1[\"Health\"],df_part1[\"Response\"],margins=True)\n",
    "response_Health/response_Health.ix[\"All\"]\n",
    "df_part1[[\"Health\", \"Response\"]].groupby(['Health']).mean().sort_values(by='Response', ascending=False)\n"
   ]
  },
  {
   "cell_type": "code",
   "execution_count": 102,
   "metadata": {},
   "outputs": [
    {
     "data": {
      "image/png": "[encoded data removed]",
      "text/plain": [
       "<matplotlib.figure.Figure at 0x112e54350>"
      ]
     },
     "metadata": {},
     "output_type": "display_data"
    }
   ],
   "source": [
    "# Plot of Response vs. Health\n",
    "N = 6\n",
    "yesMeans = (100,98.5,97.3,96.8,96.2,66.7)\n",
    "noMeans = (0,1.5,2.7,3.2,3.8,33.3)\n",
    "\n",
    "ind = np.arange(N)    # the x locations for the groups\n",
    "width = 0.35       # the width of the bars: can also be len(x) sequence\n",
    "\n",
    "p1 = plt.bar(ind, yesMeans, width)\n",
    "p2 = plt.bar(ind, noMeans, width,bottom=yesMeans)\n",
    "\n",
    "plt.ylabel('Percentage')\n",
    "plt.title('Percentage by level of physical health')\n",
    "plt.xticks(ind, ('Poor','Good','Very Good','Excellent','Fairly Good','Fairly Poor'))\n",
    "plt.yticks(np.arange(0, 110, 20))\n",
    "plt.legend((p1[0], p2[0]), ('Yes', 'No'))\n",
    "\n",
    "plt.savefig('health.png')"
   ]
  },
  {
   "cell_type": "code",
   "execution_count": null,
   "metadata": {},
   "outputs": [],
   "source": [
    "# Table of Response vs. Education\n",
    "response_Education = pd.crosstab(df_part1[\"Education\"],df_part1[\"Response\"],margins=True)\n",
    "response_Education\n",
    "response_Education/response_Education.ix[\"All\"]\n",
    "df_part1[[\"Education\", \"Response\"]].groupby(['Education']).mean().sort_values(by='Response', ascending=False)"
   ]
  },
  {
   "cell_type": "code",
   "execution_count": 103,
   "metadata": {},
   "outputs": [
    {
     "data": {
      "image/png": "[encoded data removed]",
      "text/plain": [
       "<matplotlib.figure.Figure at 0x114d90350>"
      ]
     },
     "metadata": {},
     "output_type": "display_data"
    }
   ],
   "source": [
    "# Plot of Response vs. Education\n",
    "N = 7\n",
    "yesMeans = (100,100,100,98.4,98.1,97.3,96.8)\n",
    "noMeans = (0,0,0,1.6,1.9,2.7,3.2)\n",
    "\n",
    "ind = np.arange(N)    # the x locations for the groups\n",
    "width = 0.35       # the width of the bars: can also be len(x) sequence\n",
    "\n",
    "p1 = plt.bar(ind, yesMeans, width)\n",
    "p2 = plt.bar(ind, noMeans, width,bottom=yesMeans)\n",
    "\n",
    "plt.ylabel('Percentage')\n",
    "plt.title('Percentage by education level')\n",
    "plt.xticks(ind, ('Professional', 'Secondary', 'Unspecified', 'High school', 'Post-secondary','University','Post-graduate'),\n",
    "          fontsize=7)\n",
    "plt.yticks(np.arange(0, 110, 20))\n",
    "plt.legend((p1[0], p2[0]), ('Yes', 'No'))\n",
    "\n",
    "plt.savefig('education.png')"
   ]
  },
  {
   "cell_type": "code",
   "execution_count": null,
   "metadata": {
    "scrolled": true
   },
   "outputs": [],
   "source": [
    "# Table of Response vs. Family_Income\n",
    "response_Income = pd.crosstab(df_part1[\"Family_Income\"],df_part1[\"Response\"],margins=True)\n",
    "response_Income/response_Income.ix[\"All\"]\n",
    "df_part1[[\"Family_Income\", \"Response\"]].groupby(['Family_Income']).mean().sort_values(by='Response', ascending=False)\n"
   ]
  },
  {
   "cell_type": "code",
   "execution_count": 104,
   "metadata": {},
   "outputs": [
    {
     "data": {
      "image/png": "[encoded data removed]",
      "text/plain": [
       "<matplotlib.figure.Figure at 0x113ee1650>"
      ]
     },
     "metadata": {},
     "output_type": "display_data"
    }
   ],
   "source": [
    "# Plot of Response vs. Family income\n",
    "N = 6\n",
    "yesMeans = (98.3,97.6,97.3,97.3,97.3,97.2)\n",
    "noMeans = (1.7,2.4,2.7,2.7,2.7,2.8)\n",
    "\n",
    "ind = np.arange(N)    # the x locations for the groups\n",
    "width = 0.35       # the width of the bars: can also be len(x) sequence\n",
    "\n",
    "p1 = plt.bar(ind, yesMeans, width)\n",
    "p2 = plt.bar(ind, noMeans, width,bottom=yesMeans)\n",
    "\n",
    "plt.ylabel('Percentage')\n",
    "plt.title('Percentage by household income (10k)')\n",
    "plt.xticks(ind, (' $2 - 3.9', '$10+', '$4 - 5.9', '$8 - 9.9', '$6 - 7.9','< $2'))\n",
    "plt.yticks(np.arange(0, 110, 20))\n",
    "plt.legend((p1[0], p2[0]), ('Yes', 'No'))\n",
    "\n",
    "plt.savefig('income.png')\n"
   ]
  },
  {
   "cell_type": "code",
   "execution_count": null,
   "metadata": {
    "scrolled": true
   },
   "outputs": [],
   "source": [
    "# Table of Response vs. Employment\n",
    "response_Employment = pd.crosstab(df_part1[\"Employment\"],df_part1[\"Response\"],margins=True)\n",
    "response_Employment/response_Employment.ix[\"All\"]\n",
    "df_part1[[\"Employment\", \"Response\"]].groupby(['Employment']).mean().sort_values(by='Response', ascending=False)\n"
   ]
  },
  {
   "cell_type": "code",
   "execution_count": 105,
   "metadata": {},
   "outputs": [
    {
     "data": {
      "image/png": "[encoded data removed]",
      "text/plain": [
       "<matplotlib.figure.Figure at 0x114e1e3d0>"
      ]
     },
     "metadata": {},
     "output_type": "display_data"
    }
   ],
   "source": [
    "# Plot of Response vs. Employment\n",
    "N = 6\n",
    "yesMeans = (100,98.5,97.8,97.7,97.4,97.2)\n",
    "noMeans = (0,1.5,2.2,2.3,2.6,2.8)\n",
    "\n",
    "ind = np.arange(N)    # the x locations for the groups\n",
    "width = 0.35       # the width of the bars: can also be len(x) sequence\n",
    "\n",
    "p1 = plt.bar(ind, yesMeans, width)\n",
    "p2 = plt.bar(ind, noMeans, width,bottom=yesMeans)\n",
    "\n",
    "plt.ylabel('Percentage')\n",
    "plt.title('Percentage by employment status')\n",
    "plt.xticks(ind, ('Unknown', 'Retired', 'Unemployed', 'Worker', 'Employee  ','Self-employed'))\n",
    "plt.yticks(np.arange(0, 110, 20))\n",
    "plt.legend((p1[0], p2[0]), ('Yes', 'No'))\n",
    "\n",
    "plt.savefig('employment.png')\n"
   ]
  },
  {
   "cell_type": "code",
   "execution_count": null,
   "metadata": {},
   "outputs": [],
   "source": [
    "# Table of Response vs. Region\n",
    "response_Region = pd.crosstab(df_part1[\"Region\"],df_part1[\"Response\"],margins=True)\n",
    "response_Region/response_Region.ix[\"All\"]\n",
    "df_part1[[\"Region\", \"Response\"]].groupby(['Region']).mean().sort_values(by='Response', ascending=False)\n"
   ]
  },
  {
   "cell_type": "code",
   "execution_count": null,
   "metadata": {
    "scrolled": true
   },
   "outputs": [],
   "source": [
    "# Table of Response vs. Travel_distance\n",
    "response_distance = pd.crosstab(df_part1[\"Travel_distance\"],df_part1[\"Response\"],margins=True)\n",
    "response_distance/response_distance.ix[\"All\"]\n",
    "df_part1[[\"Travel_distance\", \"Response\"]].groupby(['Travel_distance']).mean().sort_values(by='Response', ascending=False)\n"
   ]
  },
  {
   "cell_type": "code",
   "execution_count": 106,
   "metadata": {},
   "outputs": [
    {
     "data": {
      "image/png": "[encoded data removed]",
      "text/plain": [
       "<matplotlib.figure.Figure at 0x11498ac50>"
      ]
     },
     "metadata": {},
     "output_type": "display_data"
    }
   ],
   "source": [
    "# Plot of Response vs. Travel_distance\n",
    "N = 5\n",
    "yesMeans = (99.3,97.6,97.5,97.4,96.6)\n",
    "noMeans = (0.7,2.4,2.5,2.6,3.4)\n",
    "\n",
    "ind = np.arange(N)    # the x locations for the groups\n",
    "width = 0.35       # the width of the bars: can also be len(x) sequence\n",
    "\n",
    "p1 = plt.bar(ind, yesMeans, width)\n",
    "p2 = plt.bar(ind, noMeans, width,bottom=yesMeans)\n",
    "\n",
    "plt.ylabel('Percentage')\n",
    "plt.title('Percentage by travel distance most days of a week (km)')\n",
    "plt.xticks(ind, ('> 35', '20 - 35', '5 - 10', '< 2', '10 - 20'))\n",
    "plt.yticks(np.arange(0, 110, 20))\n",
    "plt.legend((p1[0], p2[0]), ('Yes', 'No'))\n",
    "\n",
    "plt.savefig('distance.png')"
   ]
  },
  {
   "cell_type": "code",
   "execution_count": null,
   "metadata": {
    "scrolled": true
   },
   "outputs": [],
   "source": [
    "# Table of Response vs. Commute time\n",
    "response_commute = pd.crosstab(df_part1[\"Commute Time\"],df_part1[\"Response\"],margins=True)\n",
    "response_commute/response_commute.ix[\"All\"]\n",
    "df_part1[[\"Commute Time\", \"Response\"]].groupby(['Commute Time']).mean().sort_values(by='Response', ascending=False)\n"
   ]
  },
  {
   "cell_type": "code",
   "execution_count": 107,
   "metadata": {},
   "outputs": [
    {
     "data": {
      "image/png": "[encoded data removed]",
      "text/plain": [
       "<matplotlib.figure.Figure at 0x1143fdfd0>"
      ]
     },
     "metadata": {},
     "output_type": "display_data"
    }
   ],
   "source": [
    "# Plot of Response vs. Commute time\n",
    "N = 6\n",
    "yesMeans = (98.4, 97.9, 97.7, 97.0, 97.0,97.0)\n",
    "noMeans = (1.6,2.1,2.3,3,3,3)\n",
    "\n",
    "ind = np.arange(N)    # the x locations for the groups\n",
    "width = 0.35       # the width of the bars: can also be len(x) sequence\n",
    "\n",
    "p1 = plt.bar(ind, yesMeans, width)\n",
    "p2 = plt.bar(ind, noMeans, width,bottom=yesMeans)\n",
    "\n",
    "plt.ylabel('Percentage')\n",
    "plt.title('Percentage by one-way commute time (mins)')\n",
    "plt.xticks(ind, ('45 - 60 ', '<= 15', '30 - 44', '16 - 29', '> 60',\n",
    "                '0'))\n",
    "plt.yticks(np.arange(0, 110, 20))\n",
    "plt.legend((p1[0], p2[0]), ('Yes', 'No'))\n",
    "\n",
    "plt.savefig('commute.png')"
   ]
  },
  {
   "cell_type": "code",
   "execution_count": null,
   "metadata": {
    "scrolled": true
   },
   "outputs": [],
   "source": [
    "# Table of Response vs. Transportation\n",
    "response_Transportation = pd.crosstab(df_part1[\"Transportation\"],df_part1[\"Response\"],margins=True)\n",
    "response_Transportation/response_Transportation.ix[\"All\"]\n",
    "\n",
    "df_part1[[\"Transportation\", \"Response\"]].groupby(['Transportation']).mean().sort_values(by='Response', ascending=False)\n"
   ]
  },
  {
   "cell_type": "code",
   "execution_count": 108,
   "metadata": {},
   "outputs": [
    {
     "data": {
      "image/png": "[encoded data removed]",
      "text/plain": [
       "<matplotlib.figure.Figure at 0x114f38c90>"
      ]
     },
     "metadata": {},
     "output_type": "display_data"
    }
   ],
   "source": [
    "# Plot of Response vs. Transportation\n",
    "N = 5\n",
    "yesMeans = (99.2, 99.0, 98.5, 96.0, 95.0)\n",
    "noMeans = (0.8, 1, 1.5, 4, 5)\n",
    "\n",
    "ind = np.arange(N)    # the x locations for the groups\n",
    "width = 0.35       # the width of the bars: can also be len(x) sequence\n",
    "\n",
    "p1 = plt.bar(ind, yesMeans, width)\n",
    "p2 = plt.bar(ind, noMeans, width,bottom=yesMeans)\n",
    "\n",
    "plt.ylabel('Percentage')\n",
    "plt.title('Percentage by daily transportation')\n",
    "plt.xticks(ind, ('Transit', 'Private Vehicles', 'ebike', 'Bike', 'Unspecified'))\n",
    "plt.yticks(np.arange(0, 110, 20))\n",
    "plt.legend((p1[0], p2[0]), ('Yes', 'No'))\n",
    "\n",
    "plt.savefig('transportation.png')"
   ]
  },
  {
   "cell_type": "code",
   "execution_count": null,
   "metadata": {},
   "outputs": [],
   "source": [
    "#divide the dataset into train set and test set, by using the \"K-fold\" cross-validation\n",
    "\n",
    "\n",
    "\n",
    "#create dummy variable \"Response\" by the answer of question \n",
    "#\"Does your household have access to any of the following types of private motorized vehicles?\"\n",
    "keyword1 = ['yes','car','cars','motorcycle','atv','motor','truck']\n",
    "keyword2 = ['share','rental','sharing','zip','Car2Go','Cars2Go',\"borrow\",\"rent\",'carshare']\n",
    "pat1 = '|'.join(keyword1)\n",
    "pat2 = '|'.join(keyword2)\n",
    "\n",
    "df['Response'] = pd.np.where(df['Vehicles'].str.lower().str.contains(pat1), 1, 0)\n",
    "df['Response'] [df['Vehicles'].str.lower().str.contains(pat2)]=0\n",
    "\n",
    "#Check the one-way frequency table of \"Response\"\n",
    "my_tab = pd.crosstab(index=df['Health'],columns=\"count\") \n",
    "my_tab"
   ]
  },
  {
   "cell_type": "code",
   "execution_count": null,
   "metadata": {},
   "outputs": [],
   "source": [
    "from sklearn.linear_model import LogisticRegression\n",
    "from sklearn import metrics, cross_validation\n",
    "\n",
    "df2 = pd.get_dummies(df, columns =['Age','Sex','Health','Education','Family_Income','Employment',\n",
    "              'Address','Travel_distance'])\n",
    "df2.head(5)\n",
    "#logreg=LogisticRegression()\n",
    "#X, y = df[\"Age\"], df[\"Response\"]\n",
    "\n",
    "\n",
    "#predicted = cross_validation.cross_val_predict(logreg, df[\"Age\"], df[\"Response\"], cv=10)\n",
    "#metrics.accuracy_score(y, predicted)\n",
    "\n"
   ]
  },
  {
   "cell_type": "code",
   "execution_count": null,
   "metadata": {},
   "outputs": [],
   "source": [
    "print metrics.classification_report(y, predicted) "
   ]
  },
  {
   "cell_type": "markdown",
   "metadata": {},
   "source": [
    "I have renamed most of the columns for simplify data manipluations. Check reference [1] for details."
   ]
  },
  {
   "cell_type": "markdown",
   "metadata": {},
   "source": [
    "## Check missing value pattern"
   ]
  },
  {
   "cell_type": "code",
   "execution_count": null,
   "metadata": {
    "scrolled": true
   },
   "outputs": [],
   "source": [
    "import missingno as msno\n",
    "%matplotlib inline"
   ]
  },
  {
   "cell_type": "code",
   "execution_count": null,
   "metadata": {
    "scrolled": true
   },
   "outputs": [],
   "source": [
    "msno.matrix(df)"
   ]
  },
  {
   "cell_type": "markdown",
   "metadata": {},
   "source": [
    "At a glance, address and all multiple choice questions regarding with the e-bike use appear to be completed, while the personal information (e.g. household income, education, gender and employment) seems spottier. \n"
   ]
  },
  {
   "cell_type": "code",
   "execution_count": null,
   "metadata": {
    "scrolled": false
   },
   "outputs": [],
   "source": [
    "#Check the randomness of missing value\n",
    "pd.crosstab(df[\"Age\"].fillna('missing'),df[\"Family_Income\"].fillna('missing'),dropna=False, margins=True)\n",
    "pd.crosstab(df[\"Education\"].fillna('missing'),df[\"Family_Income\"].fillna('missing'),dropna=False, margins=True)\n"
   ]
  },
  {
   "cell_type": "code",
   "execution_count": null,
   "metadata": {
    "scrolled": true
   },
   "outputs": [],
   "source": [
    "msno.heatmap(df)"
   ]
  },
  {
   "cell_type": "markdown",
   "metadata": {},
   "source": [
    "It seems that survey which is filed with an average travel distance most days of the week is definitely having a complete address; and along with the average commute time variable, travel distance and address will also be provided.\n",
    "\n",
    "Nullity correlation ranges from -1 (if one variable appears the other definitely does not) to 0 (variables appearing or not appearing have no effect on one another) to 1 (if one variable appears the other definitely also does)."
   ]
  },
  {
   "cell_type": "markdown",
   "metadata": {},
   "source": [
    "## Suggestions for next survey\n",
    "1.Age should be treated as continuous variable \\\n",
    "2.Transportation might be biased. Since most of them answered winter ttc and summer bike. hard to define.\n",
    "\n"
   ]
  },
  {
   "cell_type": "markdown",
   "metadata": {},
   "source": [
    "#### Reference\n",
    "##### [1] Table Names\n",
    "\n",
    "| # |Original Names |   New Column Names   |\n",
    "| :- |:---:| :-|\n",
    "| 1|Timestamp | Date|\n",
    "| 2|1. What age range do you fall in? | Age|\n",
    "| 3|Sex | Gender|\n",
    "| 4|How would you describe your level of physical health? | Health|\n",
    "| 5|What level of education have you reached? | Education|\n",
    "| 6|What is your household income? | Family_income|\n",
    "| 7|Which category best describes your employment? | Employment|\n",
    "| 8|What Toronto district is your primary address located in? | Address|\n",
    "| 9|On average, what distance do you travel most days of the week? | Travel_distance|\n",
    "| 10|On average, how long is your commute? (each way) | Commute|\n",
    "| 11|Which transportation option do you end up using most often? | Transportation|\n",
    "| 12|Does your household have access to any of the following types of private motorized vehicles? | Vehicles|\n",
    "| 13|Do you support any of the following statements? | Support_Statements|\n",
    "| 14|When you use Toronto's Multi-Use Trails do you mostly | Multiuse_Trail|\n",
    "| 15|Are you aware that the City of Toronto's Multi-Use Paths have a speed limit of 20 km/h? | Trail_speed|\n",
    "| 16|Have you witnessed a collision or conflict on a trail between | Collision_witness|\n",
    "| 17|Do you think more should be done to manage trail users who do not respect the 20 km/h speed limit? | Speed_limit|\n",
    "| 18|Currently, any kind of e-bike may use a multi-use path if they are propelled by pedaling only.  If any e-biker or other type of vehicle is being propelled by motor power, then it is considered a motor vehicle, and may be fined. | multiuselane_propelled|\n",
    "| 19|When you use Toronto's bicycle lanes do you mostly | bicyclelane_use|\n",
    "| 20|Currently, any kind of e-bike may use a bicycle lane, provided they are propelled by pedalling only.  If any e-bike is being propelled by motor power, then it is considered a motor vehicle and may be fined.  | bikelane_propelled|\n",
    "| 21|Sidewalks are for pedestrians.  Cyclists and e-bikers should not ride or drive on sidewalks.  With regards to illegal use of bicycles and e-bikes on sidewalks, should the City. | Sidewalk|\n",
    "| 22|Toronto Bylaws consider personal mobility devices (such as electric wheel chairs) to be pedestrians.  Historically, there has been little risk as electric wheelchairs available for purchase have only traveled at speeds which are close to walking speed.  More recently, personal mobility devices which resemble e-bikes and may travel at more than triple walking speed have become available.  In your opinion, should the City; | Personal_mobile|\n",
    "<style>\n",
    "table {float:left}\n",
    "</style>"
   ]
  },
  {
   "cell_type": "code",
   "execution_count": null,
   "metadata": {},
   "outputs": [],
   "source": []
  }
 ],
 "metadata": {
  "kernelspec": {
   "display_name": "Python 2",
   "language": "python",
   "name": "python2"
  },
  "language_info": {
   "codemirror_mode": {
    "name": "ipython",
    "version": 2
   },
   "file_extension": ".py",
   "mimetype": "text/x-python",
   "name": "python",
   "nbconvert_exporter": "python",
   "pygments_lexer": "ipython2",
   "version": "2.7.13"
  }
 },
 "nbformat": 4,
 "nbformat_minor": 2
}
